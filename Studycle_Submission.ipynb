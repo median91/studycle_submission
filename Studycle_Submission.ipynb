{
  "nbformat": 4,
  "nbformat_minor": 0,
  "metadata": {
    "colab": {
      "name": "Studycle_Submission.ipynb",
      "provenance": []
    },
    "kernelspec": {
      "name": "python3",
      "display_name": "Python 3"
    },
    "language_info": {
      "name": "python"
    }
  },
  "cells": [
    {
      "cell_type": "code",
      "metadata": {
        "colab": {
          "base_uri": "https://localhost:8080/"
        },
        "id": "1_Phea9C4hWR",
        "outputId": "0f04b138-3b08-4836-9ce0-31c37d8cb0c6"
      },
      "source": [
        "input_str_array = input().split()"
      ],
      "execution_count": 1,
      "outputs": [
        {
          "output_type": "stream",
          "text": [
            "1 31 51 82 2 34 56\n"
          ],
          "name": "stdout"
        }
      ]
    },
    {
      "cell_type": "code",
      "metadata": {
        "colab": {
          "base_uri": "https://localhost:8080/"
        },
        "id": "r5yQY_xE4wSW",
        "outputId": "8fc85f61-1199-41da-f4b3-2d2e214a2dd8"
      },
      "source": [
        "A = input_str_array\n",
        "int_A = [int(item) for item in A]\n",
        "print(int_A)"
      ],
      "execution_count": 4,
      "outputs": [
        {
          "output_type": "stream",
          "text": [
            "[1, 31, 51, 82, 2, 34, 56]\n"
          ],
          "name": "stdout"
        }
      ]
    },
    {
      "cell_type": "code",
      "metadata": {
        "colab": {
          "base_uri": "https://localhost:8080/"
        },
        "id": "11FupkE_40h5",
        "outputId": "a6ec4af3-5f0c-4a1d-f61d-b726314c6b48"
      },
      "source": [
        "B = sorted(int_A)\n",
        "print(B)"
      ],
      "execution_count": 5,
      "outputs": [
        {
          "output_type": "stream",
          "text": [
            "[1, 2, 31, 34, 51, 56, 82]\n"
          ],
          "name": "stdout"
        }
      ]
    },
    {
      "cell_type": "code",
      "metadata": {
        "id": "RcVRTAgh5Q4q"
      },
      "source": [
        "def mean(B):\n",
        "  return sum(B) / len(B)\n",
        "\n",
        "def median(B):\n",
        "  n = len(B)\n",
        "  s = sorted(B)\n",
        "  return (sum(s[n//2-1:n//2+1])/2.0, s[n//2])[n % 2] if n else None\n",
        "\n",
        "def multiply(B):\n",
        "  result = 1\n",
        "  for x in B:\n",
        "        result = result * x\n",
        "  return result"
      ],
      "execution_count": 6,
      "outputs": []
    },
    {
      "cell_type": "code",
      "metadata": {
        "colab": {
          "base_uri": "https://localhost:8080/"
        },
        "id": "diQ6nlQb5Yhy",
        "outputId": "4cf69ad4-1425-4cf6-c3a7-444bde3c4af1"
      },
      "source": [
        "print(mean(B))\n",
        "print(median(B))\n",
        "print(multiply(B))"
      ],
      "execution_count": 8,
      "outputs": [
        {
          "output_type": "stream",
          "text": [
            "36.714285714285715\n",
            "34\n",
            "493676736\n"
          ],
          "name": "stdout"
        }
      ]
    }
  ]
}